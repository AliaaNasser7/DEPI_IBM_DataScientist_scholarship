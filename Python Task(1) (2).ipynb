{
 "cells": [
  {
   "cell_type": "markdown",
   "id": "1edf2172",
   "metadata": {},
   "source": [
    "# Pyton Task "
   ]
  },
  {
   "cell_type": "markdown",
   "id": "53f4e134",
   "metadata": {},
   "source": [
    "##  List task --easy level--"
   ]
  },
  {
   "cell_type": "markdown",
   "id": "8ea79772",
   "metadata": {},
   "source": [
    "### 1- Write a Python program to find the length of a given list."
   ]
  },
  {
   "cell_type": "code",
   "execution_count": 3,
   "id": "062367d8",
   "metadata": {},
   "outputs": [
    {
     "data": {
      "text/plain": [
       "4"
      ]
     },
     "execution_count": 3,
     "metadata": {},
     "output_type": "execute_result"
    }
   ],
   "source": [
    "list = [1 , 2, 'a' , 'b']\n",
    "sz = len(listt)\n",
    "sz"
   ]
  },
  {
   "cell_type": "markdown",
   "id": "527bcff1",
   "metadata": {},
   "source": [
    "### 2-Write a Python program to concatenate two lists."
   ]
  },
  {
   "cell_type": "code",
   "execution_count": 5,
   "id": "f2d33722",
   "metadata": {},
   "outputs": [
    {
     "data": {
      "text/plain": [
       "[1, 2, 'a', 'b', 3, 4, 'c', 'd']"
      ]
     },
     "execution_count": 5,
     "metadata": {},
     "output_type": "execute_result"
    }
   ],
   "source": [
    "list1 = [1 , 2, 'a' , 'b']\n",
    "list2 = [3 , 4, 'c' , 'd']\n",
    "list1 + list2"
   ]
  },
  {
   "cell_type": "markdown",
   "id": "ae8228d3",
   "metadata": {},
   "source": [
    "### 3- Write a Python program to find the maximum and minimum elements in a list."
   ]
  },
  {
   "cell_type": "code",
   "execution_count": 9,
   "id": "88b9434e",
   "metadata": {},
   "outputs": [
    {
     "name": "stdout",
     "output_type": "stream",
     "text": [
      "4\n",
      "2\n"
     ]
    }
   ],
   "source": [
    "list1 = [3 , 2, 4 , 3]\n",
    "mx = max(list1)\n",
    "mn = min(list1)\n",
    "print(mx)\n",
    "print(mn)"
   ]
  },
  {
   "cell_type": "markdown",
   "id": "aa1cdd66",
   "metadata": {},
   "source": [
    "### 4- Write a Python program to count the occurrences of an element in a list."
   ]
  },
  {
   "cell_type": "code",
   "execution_count": 12,
   "id": "c2b9c688",
   "metadata": {},
   "outputs": [
    {
     "data": {
      "text/plain": [
       "2"
      ]
     },
     "execution_count": 12,
     "metadata": {},
     "output_type": "execute_result"
    }
   ],
   "source": [
    "list1 = [3 , 2, 4 , 3]\n",
    "cnt = list1.count(list1[0])\n",
    "cnt"
   ]
  },
  {
   "cell_type": "markdown",
   "id": "47a25e0d",
   "metadata": {},
   "source": [
    "# -- List -- VIP Level"
   ]
  },
  {
   "cell_type": "markdown",
   "id": "58af0512",
   "metadata": {},
   "source": [
    "### 5- Write a Python program to remove duplicates from a list while preserving the original order of elements."
   ]
  },
  {
   "cell_type": "code",
   "execution_count": 25,
   "id": "1a32da16",
   "metadata": {},
   "outputs": [
    {
     "data": {
      "text/plain": [
       "[3, 2, 4]"
      ]
     },
     "execution_count": 25,
     "metadata": {},
     "output_type": "execute_result"
    }
   ],
   "source": [
    "list1 = [3, 2, 4, 3]\n",
    "list_unq = []\n",
    "for i in list1:\n",
    "    if i not in list_unq:\n",
    "        list_unq.append(i)\n",
    "list_unq\n"
   ]
  },
  {
   "cell_type": "markdown",
   "id": "fd03adf5",
   "metadata": {},
   "source": [
    "### 6- Write a Python program to find the second largest number in a list."
   ]
  },
  {
   "cell_type": "code",
   "execution_count": 27,
   "id": "c90f6581",
   "metadata": {},
   "outputs": [
    {
     "data": {
      "text/plain": [
       "3"
      ]
     },
     "execution_count": 27,
     "metadata": {},
     "output_type": "execute_result"
    }
   ],
   "source": [
    "list1 = [3, 2, 4, 3]\n",
    "mx1 = max(list1)\n",
    "list1.remove(mx1)\n",
    "mx2 = max(list1)\n",
    "mx2"
   ]
  },
  {
   "cell_type": "markdown",
   "id": "a112b667",
   "metadata": {},
   "source": [
    "### 7- Write a Python program to find the intersection of multiple lists."
   ]
  },
  {
   "cell_type": "code",
   "execution_count": 31,
   "id": "8a687b9f",
   "metadata": {},
   "outputs": [
    {
     "data": {
      "text/plain": [
       "[1, 'b']"
      ]
     },
     "execution_count": 31,
     "metadata": {},
     "output_type": "execute_result"
    }
   ],
   "source": [
    "list1 = [1 , 2, 'a' , 'b']\n",
    "list2 = [1 , 4, 'b' , 'd']\n",
    "intersec = []\n",
    "for i in list1:\n",
    "    if i in list1:\n",
    "        if i in list2:\n",
    "            intersec.append(i)\n",
    "intersec\n",
    "        "
   ]
  },
  {
   "cell_type": "markdown",
   "id": "bdbfeecb",
   "metadata": {},
   "source": [
    "### ========================================================="
   ]
  },
  {
   "cell_type": "markdown",
   "id": "c2a5f0d4",
   "metadata": {},
   "source": [
    "##  Tuple task --easy level--"
   ]
  },
  {
   "cell_type": "markdown",
   "id": "f3636b18",
   "metadata": {},
   "source": [
    "### 8- Write a Python program to create a tuple with the following elements: 'apple', 'banana', 'cherry', and print the length of the tuple."
   ]
  },
  {
   "cell_type": "code",
   "execution_count": 37,
   "id": "8d8c6ef7",
   "metadata": {},
   "outputs": [
    {
     "data": {
      "text/plain": [
       "3"
      ]
     },
     "execution_count": 37,
     "metadata": {},
     "output_type": "execute_result"
    }
   ],
   "source": [
    "tup = ('apple', 'banana', 'cherry')\n",
    "len(tup)"
   ]
  },
  {
   "cell_type": "markdown",
   "id": "8f7af242",
   "metadata": {},
   "source": [
    "### 9- Write a Python program to access the second element of a tuple."
   ]
  },
  {
   "cell_type": "code",
   "execution_count": 40,
   "id": "20c30ca8",
   "metadata": {},
   "outputs": [
    {
     "name": "stdout",
     "output_type": "stream",
     "text": [
      "banana\n"
     ]
    }
   ],
   "source": [
    "print(tup[1])"
   ]
  },
  {
   "cell_type": "markdown",
   "id": "7beb4363",
   "metadata": {},
   "source": [
    "### 10- Write a Python program to convert a tuple to a list."
   ]
  },
  {
   "cell_type": "code",
   "execution_count": 43,
   "id": "3d27c33f",
   "metadata": {},
   "outputs": [
    {
     "data": {
      "text/plain": [
       "['apple', 'banana', 'cherry']"
      ]
     },
     "execution_count": 43,
     "metadata": {},
     "output_type": "execute_result"
    }
   ],
   "source": [
    "tup_lis = []\n",
    "for i in tup:\n",
    "    tup_lis.append(i)\n",
    "tup_lis"
   ]
  },
  {
   "cell_type": "markdown",
   "id": "0ab923ce",
   "metadata": {},
   "source": [
    "### 11- Write a Python program to slice a tuple."
   ]
  },
  {
   "cell_type": "code",
   "execution_count": 45,
   "id": "39c41026",
   "metadata": {},
   "outputs": [
    {
     "data": {
      "text/plain": [
       "('apple', 'banana')"
      ]
     },
     "execution_count": 45,
     "metadata": {},
     "output_type": "execute_result"
    }
   ],
   "source": [
    "tup[:2]"
   ]
  },
  {
   "cell_type": "markdown",
   "id": "e0180667",
   "metadata": {},
   "source": [
    "### 12- Write a Python program to check if all elements in a tuple are the same."
   ]
  },
  {
   "cell_type": "code",
   "execution_count": 47,
   "id": "5699378c",
   "metadata": {},
   "outputs": [
    {
     "name": "stdout",
     "output_type": "stream",
     "text": [
      "all the elements are the same\n"
     ]
    }
   ],
   "source": [
    "tup = (1 , 1, 1, 1, 1)\n",
    "cnt = tup.count(tup[0])\n",
    "if len(tup) == cnt:\n",
    "    print(\"all the elements are the same\")\n",
    "else:\n",
    "    print(\"all the elements are not the same\")\n",
    "    "
   ]
  },
  {
   "cell_type": "markdown",
   "id": "09fda921",
   "metadata": {},
   "source": [
    "### 13- Write a Python program to sort a tuple in ascending order."
   ]
  },
  {
   "cell_type": "code",
   "execution_count": 4,
   "id": "ca6c76fb",
   "metadata": {},
   "outputs": [
    {
     "data": {
      "text/plain": [
       "[0, 1, 2, 3, 3, 4, 9]"
      ]
     },
     "execution_count": 4,
     "metadata": {},
     "output_type": "execute_result"
    }
   ],
   "source": [
    "tup2 = (4 ,2 ,1 ,9 ,3 ,3 ,0)\n",
    "sorted_tup2 = sorted(tup2)\n",
    "sorted_tup2"
   ]
  },
  {
   "cell_type": "markdown",
   "id": "d40874dd",
   "metadata": {},
   "source": [
    "## Tuple VIP Level"
   ]
  },
  {
   "cell_type": "markdown",
   "id": "b7f7f5bd",
   "metadata": {},
   "source": [
    "### 14- Write a Python program to find the second smallest and second largest elements in a tuple."
   ]
  },
  {
   "cell_type": "code",
   "execution_count": 5,
   "id": "b184b0d0",
   "metadata": {},
   "outputs": [
    {
     "name": "stdout",
     "output_type": "stream",
     "text": [
      "1\n",
      "4\n"
     ]
    }
   ],
   "source": [
    "sec_small = sorted_tup2[1]\n",
    "sec_larg = sorted_tup2[5]\n",
    "print(sec_small)\n",
    "print(sec_larg)"
   ]
  },
  {
   "cell_type": "markdown",
   "id": "2f3f91d5",
   "metadata": {},
   "source": [
    "### 15- Write a Python program to remove duplicates from a tuple."
   ]
  },
  {
   "cell_type": "code",
   "execution_count": 7,
   "id": "837e4356",
   "metadata": {},
   "outputs": [
    {
     "data": {
      "text/plain": [
       "(4, 2, 1, 9, 3, 0)"
      ]
     },
     "execution_count": 7,
     "metadata": {},
     "output_type": "execute_result"
    }
   ],
   "source": [
    "tup2 = (4 ,2 ,1 ,9 ,3 ,3 ,0 , 4 , 0 , 9 , 1)\n",
    "tup_unq = ()\n",
    "for i in tup2:\n",
    "    if i not in tup_unq:\n",
    "        tup_unq = tup_unq + (i,)\n",
    "tup_unq"
   ]
  },
  {
   "cell_type": "markdown",
   "id": "4f087034",
   "metadata": {},
   "source": [
    "### 16- Write a Python program to find the product of all elements in a tuple."
   ]
  },
  {
   "cell_type": "code",
   "execution_count": 9,
   "id": "0b7dbeda",
   "metadata": {},
   "outputs": [
    {
     "data": {
      "text/plain": [
       "23328"
      ]
     },
     "execution_count": 9,
     "metadata": {},
     "output_type": "execute_result"
    }
   ],
   "source": [
    "tup2 = (4 ,2 ,1 ,9 ,3 ,3 , 4 , 9 , 1)\n",
    "prod = 1\n",
    "for i in tup2:\n",
    "    prod *= i\n",
    "prod"
   ]
  },
  {
   "cell_type": "markdown",
   "id": "62889d93",
   "metadata": {},
   "source": [
    "# ==============================================="
   ]
  },
  {
   "cell_type": "markdown",
   "id": "1f7add2c",
   "metadata": {},
   "source": [
    "##  Set task --easy level--"
   ]
  },
  {
   "cell_type": "markdown",
   "id": "4d8b4f19",
   "metadata": {},
   "source": [
    "### 17- Write a Python program to count the number of unique elements in a given list using a set."
   ]
  },
  {
   "cell_type": "code",
   "execution_count": 13,
   "id": "af7d0a84",
   "metadata": {},
   "outputs": [
    {
     "data": {
      "text/plain": [
       "5"
      ]
     },
     "execution_count": 13,
     "metadata": {},
     "output_type": "execute_result"
    }
   ],
   "source": [
    "list_1 = [1 , 2, 'a' , 'b' , 1 , 2 , 3]\n",
    "list_set = set(list_1)\n",
    "len(list_set)\n"
   ]
  },
  {
   "cell_type": "markdown",
   "id": "b8ce5b2a",
   "metadata": {},
   "source": [
    "### 18- Write a Python program to remove duplicate elements from a list using a set and return the updated list."
   ]
  },
  {
   "cell_type": "code",
   "execution_count": 15,
   "id": "299a0e36",
   "metadata": {},
   "outputs": [
    {
     "data": {
      "text/plain": [
       "[1, 2, 3, 'b', 'a']"
      ]
     },
     "execution_count": 15,
     "metadata": {},
     "output_type": "execute_result"
    }
   ],
   "source": [
    "list_1 = [1 , 2, 'a' , 'b' , 1 , 2 , 3]\n",
    "list_set = set(list_1)\n",
    "list(list_set)\n"
   ]
  },
  {
   "cell_type": "markdown",
   "id": "269c3275",
   "metadata": {},
   "source": [
    "### Set VIP Level"
   ]
  },
  {
   "cell_type": "markdown",
   "id": "ceaff168",
   "metadata": {},
   "source": [
    "### 19- Write a Python program to check if two sets have any common elements and return True if they do, otherwise return False."
   ]
  },
  {
   "cell_type": "code",
   "execution_count": 23,
   "id": "5d062bf2",
   "metadata": {},
   "outputs": [
    {
     "name": "stdout",
     "output_type": "stream",
     "text": [
      "True\n"
     ]
    }
   ],
   "source": [
    "a = {\"apple\", \"banana\", \"cherry\"}\n",
    "b = {\"google\", \"microsoft\", \"apple\" , \"cherry\"}\n",
    "c = a.intersection(b)\n",
    "if len(c) != 0:\n",
    "     print(True)\n",
    "else:\n",
    "     print(False)\n"
   ]
  },
  {
   "cell_type": "markdown",
   "id": "854899cd",
   "metadata": {},
   "source": [
    "### 20- Write a Python program to find the union of multiple sets and return a new set containing all the elements from the input sets."
   ]
  },
  {
   "cell_type": "code",
   "execution_count": 25,
   "id": "bc437e7a",
   "metadata": {},
   "outputs": [
    {
     "data": {
      "text/plain": [
       "{'apple', 'banana', 'cherry', 'google', 'microsoft'}"
      ]
     },
     "execution_count": 25,
     "metadata": {},
     "output_type": "execute_result"
    }
   ],
   "source": [
    "a = {\"apple\", \"banana\", \"cherry\"}\n",
    "b = {\"google\", \"microsoft\", \"apple\" , \"cherry\"}\n",
    "c = a.union(b)\n",
    "c"
   ]
  },
  {
   "cell_type": "markdown",
   "id": "075b7aa4",
   "metadata": {},
   "source": [
    "# ============================================="
   ]
  },
  {
   "cell_type": "markdown",
   "id": "c1d1579d",
   "metadata": {},
   "source": [
    "##  Dictionary task --easy level--"
   ]
  },
  {
   "cell_type": "markdown",
   "id": "0ef76011",
   "metadata": {},
   "source": [
    "### 21- Write a program that takes a dictionary as input and prints all the keys present in it."
   ]
  },
  {
   "cell_type": "code",
   "execution_count": 27,
   "id": "03dc86d3",
   "metadata": {},
   "outputs": [
    {
     "data": {
      "text/plain": [
       "dict_keys(['name', 'age', 'job'])"
      ]
     },
     "execution_count": 27,
     "metadata": {},
     "output_type": "execute_result"
    }
   ],
   "source": [
    "dict = {'name' : 'hend' , 'age' : 30 , 'job' : 'Engineer'}\n",
    "dict.keys()"
   ]
  },
  {
   "cell_type": "markdown",
   "id": "c5b40b07",
   "metadata": {},
   "source": [
    "### 22- Write a program that checks whether a given key exists in a dictionary or not. If the key exists, print its corresponding value; otherwise, print \"Key not found\"."
   ]
  },
  {
   "cell_type": "code",
   "execution_count": 29,
   "id": "6336c91e",
   "metadata": {},
   "outputs": [
    {
     "name": "stdout",
     "output_type": "stream",
     "text": [
      "30\n"
     ]
    }
   ],
   "source": [
    "dict = {'name' : 'hend' , 'age' : 30 , 'job' : 'Engineer'}\n",
    "if 'age' in dict:\n",
    "    print(dict['age'])\n",
    "else:\n",
    "    print(\"Key not found\")"
   ]
  },
  {
   "cell_type": "markdown",
   "id": "8b52817e",
   "metadata": {},
   "source": [
    "### 23- Write a program that calculates the sum of all the values in a dictionary."
   ]
  },
  {
   "cell_type": "code",
   "execution_count": 30,
   "id": "8179df00",
   "metadata": {},
   "outputs": [
    {
     "data": {
      "text/plain": [
       "600"
      ]
     },
     "execution_count": 30,
     "metadata": {},
     "output_type": "execute_result"
    }
   ],
   "source": [
    "dict = {'a': 100, 'b':200, 'c':300} \n",
    "sum = 0\n",
    "for i in dict:\n",
    "    sum += dict[i]\n",
    "\n",
    "sum"
   ]
  },
  {
   "cell_type": "markdown",
   "id": "f8a05356",
   "metadata": {},
   "source": [
    "### 24- Write a program that finds the key with the maximum value in a dictionary."
   ]
  },
  {
   "cell_type": "code",
   "execution_count": 31,
   "id": "5dd31ad7",
   "metadata": {},
   "outputs": [
    {
     "data": {
      "text/plain": [
       "300"
      ]
     },
     "execution_count": 31,
     "metadata": {},
     "output_type": "execute_result"
    }
   ],
   "source": [
    "dict = {'a': 100, 'b':200, 'c':300} \n",
    "mx = 0\n",
    "for i in dict:\n",
    "    mx = max(mx, dict[i])\n",
    "\n",
    "mx"
   ]
  },
  {
   "cell_type": "markdown",
   "id": "f21a1d37",
   "metadata": {},
   "source": [
    "### Dictionary VIP Level"
   ]
  },
  {
   "cell_type": "markdown",
   "id": "1a8dfea9",
   "metadata": {},
   "source": [
    "### 25- Write a program that takes a list of dictionaries as input. Each dictionary represents a student with keys \"name\" (string), \"age\" (integer), and \"marks\" (list of integers). The program should calculate the average marks for each student and print their names along with their average marks in descending order of average marks."
   ]
  },
  {
   "cell_type": "code",
   "execution_count": 64,
   "id": "74e091e3",
   "metadata": {},
   "outputs": [
    {
     "data": {
      "text/plain": [
       "[('hend', 91.66666666666667),\n",
       " ('mohamed', 81.66666666666667),\n",
       " ('mustafa', 77.33333333333333)]"
      ]
     },
     "execution_count": 64,
     "metadata": {},
     "output_type": "execute_result"
    }
   ],
   "source": [
    "list_dict = [{'name' : 'hend' , 'age' : 19 , 'marks' : [99 , 80 , 96]} , \n",
    "            {'name' : 'mohamed' , 'age' : 19 , 'marks' : [96 , 55 , 94]} , \n",
    "            {'name' : 'mustafa' , 'age' : 19 , 'marks' : [85 , 67 , 80]}]\n",
    "av1 = (list_dict[0]['marks'][0] + list_dict[0]['marks'][1] + list_dict[0]['marks'][2]) / 3\n",
    "av2 = (list_dict[1]['marks'][0] + list_dict[1]['marks'][1] + list_dict[1]['marks'][2]) / 3\n",
    "av3 = (list_dict[2]['marks'][0] + list_dict[2]['marks'][1] + list_dict[2]['marks'][2]) / 3\n",
    "avr_dict = {'hend' : av1 , 'mohamed' : av2 ,'mustafa' : av3}\n",
    "sort_avr = sorted(avr_dict.items(), key=lambda x: x[0])\n",
    "sort_avr"
   ]
  },
  {
   "cell_type": "code",
   "execution_count": null,
   "id": "38eb0519-0c7e-4b35-bb7c-793edff9c650",
   "metadata": {},
   "outputs": [],
   "source": []
  }
 ],
 "metadata": {
  "kernelspec": {
   "display_name": "Python 3 (ipykernel)",
   "language": "python",
   "name": "python3"
  },
  "language_info": {
   "codemirror_mode": {
    "name": "ipython",
    "version": 3
   },
   "file_extension": ".py",
   "mimetype": "text/x-python",
   "name": "python",
   "nbconvert_exporter": "python",
   "pygments_lexer": "ipython3",
   "version": "3.12.1"
  }
 },
 "nbformat": 4,
 "nbformat_minor": 5
}
